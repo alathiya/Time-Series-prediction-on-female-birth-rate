{
  "nbformat": 4,
  "nbformat_minor": 0,
  "metadata": {
    "colab": {
      "name": "Time Series prediction on daily total female birth rate dataset.ipynb",
      "provenance": [],
      "collapsed_sections": []
    },
    "kernelspec": {
      "name": "python3",
      "display_name": "Python 3"
    },
    "accelerator": "GPU"
  },
  "cells": [
    {
      "cell_type": "code",
      "metadata": {
        "id": "v4P-b9KXz0vV",
        "colab_type": "code",
        "colab": {
          "base_uri": "https://localhost:8080/",
          "height": 34
        },
        "outputId": "95add608-de5f-4bca-bb02-565b6fdf414f"
      },
      "source": [
        "import tensorflow as tf\n",
        "print(tf.__version__)"
      ],
      "execution_count": 1,
      "outputs": [
        {
          "output_type": "stream",
          "text": [
            "2.0.0-beta1\n"
          ],
          "name": "stdout"
        }
      ]
    },
    {
      "cell_type": "code",
      "metadata": {
        "id": "1gW8Uz9Oz7i6",
        "colab_type": "code",
        "colab": {
          "base_uri": "https://localhost:8080/",
          "height": 642
        },
        "outputId": "82356997-abc9-4a6b-e6fa-b18005e2878e"
      },
      "source": [
        "!pip install tensorflow==2.0.0b1"
      ],
      "execution_count": 2,
      "outputs": [
        {
          "output_type": "stream",
          "text": [
            "Collecting tensorflow==2.0.0b1\n",
            "\u001b[?25l  Downloading https://files.pythonhosted.org/packages/29/6c/2c9a5c4d095c63c2fb37d20def0e4f92685f7aee9243d6aae25862694fd1/tensorflow-2.0.0b1-cp36-cp36m-manylinux1_x86_64.whl (87.9MB)\n",
            "\u001b[K     |████████████████████████████████| 87.9MB 1.2MB/s \n",
            "\u001b[?25hCollecting tb-nightly<1.14.0a20190604,>=1.14.0a20190603 (from tensorflow==2.0.0b1)\n",
            "\u001b[?25l  Downloading https://files.pythonhosted.org/packages/a4/96/571b875cd81dda9d5dfa1422a4f9d749e67c0a8d4f4f0b33a4e5f5f35e27/tb_nightly-1.14.0a20190603-py3-none-any.whl (3.1MB)\n",
            "\u001b[K     |████████████████████████████████| 3.1MB 30.3MB/s \n",
            "\u001b[?25hRequirement already satisfied: six>=1.10.0 in /usr/local/lib/python3.6/dist-packages (from tensorflow==2.0.0b1) (1.12.0)\n",
            "Requirement already satisfied: wrapt>=1.11.1 in /usr/local/lib/python3.6/dist-packages (from tensorflow==2.0.0b1) (1.11.2)\n",
            "Requirement already satisfied: grpcio>=1.8.6 in /usr/local/lib/python3.6/dist-packages (from tensorflow==2.0.0b1) (1.15.0)\n",
            "Requirement already satisfied: termcolor>=1.1.0 in /usr/local/lib/python3.6/dist-packages (from tensorflow==2.0.0b1) (1.1.0)\n",
            "Requirement already satisfied: protobuf>=3.6.1 in /usr/local/lib/python3.6/dist-packages (from tensorflow==2.0.0b1) (3.7.1)\n",
            "Requirement already satisfied: absl-py>=0.7.0 in /usr/local/lib/python3.6/dist-packages (from tensorflow==2.0.0b1) (0.8.0)\n",
            "Requirement already satisfied: google-pasta>=0.1.6 in /usr/local/lib/python3.6/dist-packages (from tensorflow==2.0.0b1) (0.1.7)\n",
            "Requirement already satisfied: keras-applications>=1.0.6 in /usr/local/lib/python3.6/dist-packages (from tensorflow==2.0.0b1) (1.0.8)\n",
            "Requirement already satisfied: numpy<2.0,>=1.14.5 in /usr/local/lib/python3.6/dist-packages (from tensorflow==2.0.0b1) (1.16.5)\n",
            "Requirement already satisfied: wheel>=0.26 in /usr/local/lib/python3.6/dist-packages (from tensorflow==2.0.0b1) (0.33.6)\n",
            "Requirement already satisfied: gast>=0.2.0 in /usr/local/lib/python3.6/dist-packages (from tensorflow==2.0.0b1) (0.3.2)\n",
            "Requirement already satisfied: astor>=0.6.0 in /usr/local/lib/python3.6/dist-packages (from tensorflow==2.0.0b1) (0.8.0)\n",
            "Requirement already satisfied: keras-preprocessing>=1.0.5 in /usr/local/lib/python3.6/dist-packages (from tensorflow==2.0.0b1) (1.1.0)\n",
            "Collecting tf-estimator-nightly<1.14.0.dev2019060502,>=1.14.0.dev2019060501 (from tensorflow==2.0.0b1)\n",
            "\u001b[?25l  Downloading https://files.pythonhosted.org/packages/32/dd/99c47dd007dcf10d63fd895611b063732646f23059c618a373e85019eb0e/tf_estimator_nightly-1.14.0.dev2019060501-py2.py3-none-any.whl (496kB)\n",
            "\u001b[K     |████████████████████████████████| 501kB 52.0MB/s \n",
            "\u001b[?25hRequirement already satisfied: werkzeug>=0.11.15 in /usr/local/lib/python3.6/dist-packages (from tb-nightly<1.14.0a20190604,>=1.14.0a20190603->tensorflow==2.0.0b1) (0.16.0)\n",
            "Requirement already satisfied: markdown>=2.6.8 in /usr/local/lib/python3.6/dist-packages (from tb-nightly<1.14.0a20190604,>=1.14.0a20190603->tensorflow==2.0.0b1) (3.1.1)\n",
            "Requirement already satisfied: setuptools>=41.0.0 in /usr/local/lib/python3.6/dist-packages (from tb-nightly<1.14.0a20190604,>=1.14.0a20190603->tensorflow==2.0.0b1) (41.2.0)\n",
            "Requirement already satisfied: h5py in /usr/local/lib/python3.6/dist-packages (from keras-applications>=1.0.6->tensorflow==2.0.0b1) (2.8.0)\n",
            "Installing collected packages: tb-nightly, tf-estimator-nightly, tensorflow\n",
            "  Found existing installation: tensorflow 1.14.0\n",
            "    Uninstalling tensorflow-1.14.0:\n",
            "      Successfully uninstalled tensorflow-1.14.0\n",
            "Successfully installed tb-nightly-1.14.0a20190603 tensorflow-2.0.0b1 tf-estimator-nightly-1.14.0.dev2019060501\n"
          ],
          "name": "stdout"
        },
        {
          "output_type": "display_data",
          "data": {
            "application/vnd.colab-display-data+json": {
              "pip_warning": {
                "packages": [
                  "tensorboard",
                  "tensorflow",
                  "tensorflow_estimator"
                ]
              }
            }
          },
          "metadata": {
            "tags": []
          }
        }
      ]
    },
    {
      "cell_type": "code",
      "metadata": {
        "id": "_pglCXciz8jx",
        "colab_type": "code",
        "colab": {
          "base_uri": "https://localhost:8080/",
          "height": 202
        },
        "outputId": "bc725f4b-264a-4832-c30f-c9832d684851"
      },
      "source": [
        "!wget --no-check-certificate \\\n",
        "    https://raw.githubusercontent.com/jbrownlee/Datasets/master/daily-total-female-births.csv \\\n",
        "    -O /tmp/daily-total-female-births.csv"
      ],
      "execution_count": 2,
      "outputs": [
        {
          "output_type": "stream",
          "text": [
            "--2019-10-01 15:04:11--  https://raw.githubusercontent.com/jbrownlee/Datasets/master/daily-total-female-births.csv\n",
            "Resolving raw.githubusercontent.com (raw.githubusercontent.com)... 151.101.0.133, 151.101.64.133, 151.101.128.133, ...\n",
            "Connecting to raw.githubusercontent.com (raw.githubusercontent.com)|151.101.0.133|:443... connected.\n",
            "HTTP request sent, awaiting response... 200 OK\n",
            "Length: 6220 (6.1K) [text/plain]\n",
            "Saving to: ‘/tmp/daily-total-female-births.csv’\n",
            "\n",
            "\r          /tmp/dail   0%[                    ]       0  --.-KB/s               \r/tmp/daily-total-fe 100%[===================>]   6.07K  --.-KB/s    in 0s      \n",
            "\n",
            "2019-10-01 15:04:11 (63.5 MB/s) - ‘/tmp/daily-total-female-births.csv’ saved [6220/6220]\n",
            "\n"
          ],
          "name": "stdout"
        }
      ]
    },
    {
      "cell_type": "code",
      "metadata": {
        "id": "36gqmyiC2nAQ",
        "colab_type": "code",
        "colab": {}
      },
      "source": [
        "import numpy as np\n",
        "import matplotlib.pyplot as plt\n",
        "\n",
        "def plot_series(series, time, start=0, end=None, format=\"-\"):\n",
        "  plt.plot(time[start:end], series[start:end], format)\n",
        "  plt.xlabel('Time')\n",
        "  plt.ylabel('Value')\n",
        "  plt.grid(True)\n",
        "\n"
      ],
      "execution_count": 0,
      "outputs": []
    },
    {
      "cell_type": "code",
      "metadata": {
        "id": "IHoKMlCK4RAg",
        "colab_type": "code",
        "colab": {
          "base_uri": "https://localhost:8080/",
          "height": 392
        },
        "outputId": "f06000ec-fc85-41ad-b9d3-0a95d86b1d27"
      },
      "source": [
        "import csv\n",
        "\n",
        "time_steps = []\n",
        "birth = []\n",
        "\n",
        "with open('/tmp/daily-total-female-births.csv') as csvfile:\n",
        "  reader = csv.reader(csvfile, delimiter=',')\n",
        "  next(reader)\n",
        "\n",
        "  for i, line in enumerate(reader):\n",
        "    birth.append(float(line[1]))\n",
        "    time_steps.append(i)\n",
        "\n",
        "time = np.array(time_steps)\n",
        "series = np.array(birth)\n",
        "plt.figure(figsize=(10,6))\n",
        "plot_series(series, time)"
      ],
      "execution_count": 11,
      "outputs": [
        {
          "output_type": "display_data",
          "data": {
            "image/png": "[encoded data removed]",
            "text/plain": [
              "<Figure size 720x432 with 1 Axes>"
            ]
          },
          "metadata": {
            "tags": []
          }
        }
      ]
    },
    {
      "cell_type": "code",
      "metadata": {
        "id": "ZlfPTw495ZLr",
        "colab_type": "code",
        "colab": {}
      },
      "source": [
        "split_time=300\n",
        "time_train = time[:split_time]\n",
        "x_train = series[:split_time]\n",
        "time_valid = time[split_time:]\n",
        "x_valid = series[split_time:]\n",
        "\n",
        "window_size=30\n",
        "batch_size=10\n",
        "shuffle_buffer_size=100"
      ],
      "execution_count": 0,
      "outputs": []
    },
    {
      "cell_type": "code",
      "metadata": {
        "id": "tuqrHthJ9go6",
        "colab_type": "code",
        "colab": {}
      },
      "source": [
        "def windowed_dataset(series, window_size, batch_size, shuffle_buffer_size):\n",
        "  series = tf.expand_dims(series, axis=-1)\n",
        "  ds = tf.data.Dataset.from_tensor_slices(series)\n",
        "  ds = ds.window(window_size+1, shift=1, drop_remainder=True)\n",
        "  ds = ds.flat_map(lambda x: x.batch(window_size + 1))\n",
        "  ds = ds.shuffle(shuffle_buffer_size)\n",
        "  ds = ds.map(lambda x: (x[:-1], x[1:]))\n",
        "  ds = ds.batch(batch_size).prefetch(1)\n",
        "\n",
        "  return ds"
      ],
      "execution_count": 0,
      "outputs": []
    },
    {
      "cell_type": "code",
      "metadata": {
        "id": "IoHZ5WaO-z9f",
        "colab_type": "code",
        "colab": {}
      },
      "source": [
        "def model_forcast(model, series, window_size):\n",
        "  ds = tf.data.Dataset.from_tensor_slices(series)\n",
        "  ds = ds.window(window_size, shift=1, drop_remainder=True)\n",
        "  ds = ds.flat_map(lambda x: x.batch(window_size))\n",
        "  ds = ds.batch(batch_size).prefetch(1)\n",
        "  forcast = model.predict(ds)\n",
        "  \n",
        "  return forcast "
      ],
      "execution_count": 0,
      "outputs": []
    },
    {
      "cell_type": "code",
      "metadata": {
        "id": "KFn_1bPv_ryF",
        "colab_type": "code",
        "colab": {
          "base_uri": "https://localhost:8080/",
          "height": 34
        },
        "outputId": "72fe8c06-7a6d-48db-9184-1b932c47ea08"
      },
      "source": [
        "tf.keras.backend.clear_session()\n",
        "tf.random.set_seed(52)\n",
        "np.random.seed(51)\n",
        "\n",
        "window_size = 30\n",
        "batch_size=128\n",
        "\n",
        "train_dataset = windowed_dataset(x_train, window_size, batch_size, shuffle_buffer_size)\n",
        "\n",
        "print(train_dataset)"
      ],
      "execution_count": 39,
      "outputs": [
        {
          "output_type": "stream",
          "text": [
            "<PrefetchDataset shapes: ((None, None, 1), (None, None, 1)), types: (tf.float64, tf.float64)>\n"
          ],
          "name": "stdout"
        }
      ]
    },
    {
      "cell_type": "code",
      "metadata": {
        "id": "yqcVedvgAePI",
        "colab_type": "code",
        "colab": {
          "base_uri": "https://localhost:8080/",
          "height": 34
        },
        "outputId": "e74e83f9-7884-45bc-e072-01b39d84a0d1"
      },
      "source": [
        "print(x_train.shape)"
      ],
      "execution_count": 22,
      "outputs": [
        {
          "output_type": "stream",
          "text": [
            "(300,)\n"
          ],
          "name": "stdout"
        }
      ]
    },
    {
      "cell_type": "code",
      "metadata": {
        "id": "YiUFPwtlBDA-",
        "colab_type": "code",
        "colab": {
          "base_uri": "https://localhost:8080/",
          "height": 541
        },
        "outputId": "19489615-ac9c-4743-9dd7-6ad13fd9c070"
      },
      "source": [
        "model = tf.keras.models.Sequential([tf.keras.layers.Conv1D(60, strides=1, kernel_size=5, padding='causal', activation='relu', input_shape=[None,1]),\n",
        "                                    tf.keras.layers.LSTM(30, return_sequences=True),\n",
        "                                    tf.keras.layers.LSTM(30, return_sequences=True),\n",
        "                                    tf.keras.layers.Dense(30, activation='relu'),\n",
        "                                    tf.keras.layers.Dense(15, activation='relu'),\n",
        "                                    tf.keras.layers.Dense(1),\n",
        "                                    tf.keras.layers.Lambda(lambda x:x*75)])\n",
        "\n",
        "model.summary()"
      ],
      "execution_count": 25,
      "outputs": [
        {
          "output_type": "stream",
          "text": [
            "WARNING:tensorflow:Entity <function standard_lstm at 0x7f88a1ac37b8> could not be transformed and will be executed as-is. Please report this to the AutoGraph team. When filing the bug, set the verbosity to 10 (on Linux, `export AUTOGRAPH_VERBOSITY=10`) and attach the full output. Cause: converting <function standard_lstm at 0x7f88a1ac37b8>: AttributeError: module 'gast' has no attribute 'Num'\n",
            "WARNING: Entity <function standard_lstm at 0x7f88a1ac37b8> could not be transformed and will be executed as-is. Please report this to the AutoGraph team. When filing the bug, set the verbosity to 10 (on Linux, `export AUTOGRAPH_VERBOSITY=10`) and attach the full output. Cause: converting <function standard_lstm at 0x7f88a1ac37b8>: AttributeError: module 'gast' has no attribute 'Num'\n",
            "WARNING:tensorflow:Entity <function cudnn_lstm at 0x7f88a1ac3840> could not be transformed and will be executed as-is. Please report this to the AutoGraph team. When filing the bug, set the verbosity to 10 (on Linux, `export AUTOGRAPH_VERBOSITY=10`) and attach the full output. Cause: converting <function cudnn_lstm at 0x7f88a1ac3840>: AttributeError: module 'gast' has no attribute 'Num'\n",
            "WARNING: Entity <function cudnn_lstm at 0x7f88a1ac3840> could not be transformed and will be executed as-is. Please report this to the AutoGraph team. When filing the bug, set the verbosity to 10 (on Linux, `export AUTOGRAPH_VERBOSITY=10`) and attach the full output. Cause: converting <function cudnn_lstm at 0x7f88a1ac3840>: AttributeError: module 'gast' has no attribute 'Num'\n",
            "WARNING:tensorflow:Entity <function standard_lstm at 0x7f88a1ac37b8> could not be transformed and will be executed as-is. Please report this to the AutoGraph team. When filing the bug, set the verbosity to 10 (on Linux, `export AUTOGRAPH_VERBOSITY=10`) and attach the full output. Cause: converting <function standard_lstm at 0x7f88a1ac37b8>: AttributeError: module 'gast' has no attribute 'Num'\n",
            "WARNING: Entity <function standard_lstm at 0x7f88a1ac37b8> could not be transformed and will be executed as-is. Please report this to the AutoGraph team. When filing the bug, set the verbosity to 10 (on Linux, `export AUTOGRAPH_VERBOSITY=10`) and attach the full output. Cause: converting <function standard_lstm at 0x7f88a1ac37b8>: AttributeError: module 'gast' has no attribute 'Num'\n",
            "WARNING:tensorflow:Entity <function cudnn_lstm at 0x7f88a1ac3840> could not be transformed and will be executed as-is. Please report this to the AutoGraph team. When filing the bug, set the verbosity to 10 (on Linux, `export AUTOGRAPH_VERBOSITY=10`) and attach the full output. Cause: converting <function cudnn_lstm at 0x7f88a1ac3840>: AttributeError: module 'gast' has no attribute 'Num'\n",
            "WARNING: Entity <function cudnn_lstm at 0x7f88a1ac3840> could not be transformed and will be executed as-is. Please report this to the AutoGraph team. When filing the bug, set the verbosity to 10 (on Linux, `export AUTOGRAPH_VERBOSITY=10`) and attach the full output. Cause: converting <function cudnn_lstm at 0x7f88a1ac3840>: AttributeError: module 'gast' has no attribute 'Num'\n",
            "Model: \"sequential_1\"\n",
            "_________________________________________________________________\n",
            "Layer (type)                 Output Shape              Param #   \n",
            "=================================================================\n",
            "conv1d_2 (Conv1D)            (None, None, 60)          360       \n",
            "_________________________________________________________________\n",
            "lstm_4 (LSTM)                (None, None, 30)          10920     \n",
            "_________________________________________________________________\n",
            "lstm_5 (LSTM)                (None, None, 30)          7320      \n",
            "_________________________________________________________________\n",
            "dense_5 (Dense)              (None, None, 30)          930       \n",
            "_________________________________________________________________\n",
            "dense_6 (Dense)              (None, None, 15)          465       \n",
            "_________________________________________________________________\n",
            "dense_7 (Dense)              (None, None, 1)           16        \n",
            "_________________________________________________________________\n",
            "lambda_1 (Lambda)            (None, None, 1)           0         \n",
            "=================================================================\n",
            "Total params: 20,011\n",
            "Trainable params: 20,011\n",
            "Non-trainable params: 0\n",
            "_________________________________________________________________\n"
          ],
          "name": "stdout"
        }
      ]
    },
    {
      "cell_type": "code",
      "metadata": {
        "id": "u7b5S0Q1FOov",
        "colab_type": "code",
        "colab": {
          "base_uri": "https://localhost:8080/",
          "height": 1000
        },
        "outputId": "e151f240-0b0f-4f58-f677-780cd09a74c9"
      },
      "source": [
        "lr_scheduler = tf.keras.callbacks.LearningRateScheduler(lambda epochs: 1e-8 * 10**(epochs/20))\n",
        "optimizer = tf.keras.optimizers.SGD(learning_rate=1e-8, momentum=0.9)\n",
        "model.compile(optimizer=optimizer, loss=tf.keras.losses.Huber(), metrics=['mae'])\n",
        "history=model.fit(train_dataset, epochs=100, callbacks=[lr_scheduler])"
      ],
      "execution_count": 27,
      "outputs": [
        {
          "output_type": "stream",
          "text": [
            "Epoch 1/100\n",
            "9/9 [==============================] - 3s 362ms/step - loss: 38.9355 - mae: 39.3453\n",
            "Epoch 2/100\n",
            "9/9 [==============================] - 0s 37ms/step - loss: 38.7708 - mae: 39.1922\n",
            "Epoch 3/100\n",
            "9/9 [==============================] - 0s 39ms/step - loss: 38.5213 - mae: 38.9444\n",
            "Epoch 4/100\n",
            "9/9 [==============================] - 0s 36ms/step - loss: 38.1990 - mae: 38.6236\n",
            "Epoch 5/100\n",
            "9/9 [==============================] - 0s 36ms/step - loss: 37.8026 - mae: 38.2287\n",
            "Epoch 6/100\n",
            "9/9 [==============================] - 0s 35ms/step - loss: 37.3216 - mae: 37.7499\n",
            "Epoch 7/100\n",
            "9/9 [==============================] - 0s 35ms/step - loss: 36.7413 - mae: 37.1729\n",
            "Epoch 8/100\n",
            "9/9 [==============================] - 0s 35ms/step - loss: 36.0563 - mae: 36.4916\n",
            "Epoch 9/100\n",
            "9/9 [==============================] - 0s 36ms/step - loss: 35.2888 - mae: 35.7271\n",
            "Epoch 10/100\n",
            "9/9 [==============================] - 0s 35ms/step - loss: 34.4793 - mae: 34.9197\n",
            "Epoch 11/100\n",
            "9/9 [==============================] - 0s 36ms/step - loss: 33.6648 - mae: 34.1069\n",
            "Epoch 12/100\n",
            "9/9 [==============================] - 0s 37ms/step - loss: 32.8588 - mae: 33.3021\n",
            "Epoch 13/100\n",
            "9/9 [==============================] - 0s 36ms/step - loss: 32.0612 - mae: 32.5056\n",
            "Epoch 14/100\n",
            "9/9 [==============================] - 0s 37ms/step - loss: 31.2597 - mae: 31.7052\n",
            "Epoch 15/100\n",
            "9/9 [==============================] - 0s 36ms/step - loss: 30.4507 - mae: 30.8968\n",
            "Epoch 16/100\n",
            "9/9 [==============================] - 0s 35ms/step - loss: 29.6366 - mae: 30.0830\n",
            "Epoch 17/100\n",
            "9/9 [==============================] - 0s 36ms/step - loss: 28.8201 - mae: 29.2664\n",
            "Epoch 18/100\n",
            "9/9 [==============================] - 0s 35ms/step - loss: 27.9989 - mae: 28.4453\n",
            "Epoch 19/100\n",
            "9/9 [==============================] - 0s 37ms/step - loss: 27.1690 - mae: 27.6155\n",
            "Epoch 20/100\n",
            "9/9 [==============================] - 0s 37ms/step - loss: 26.3252 - mae: 26.7720\n",
            "Epoch 21/100\n",
            "9/9 [==============================] - 0s 36ms/step - loss: 25.4575 - mae: 25.9048\n",
            "Epoch 22/100\n",
            "9/9 [==============================] - 0s 36ms/step - loss: 24.5472 - mae: 24.9948\n",
            "Epoch 23/100\n",
            "9/9 [==============================] - 0s 37ms/step - loss: 23.5795 - mae: 24.0288\n",
            "Epoch 24/100\n",
            "9/9 [==============================] - 0s 36ms/step - loss: 22.5499 - mae: 23.0003\n",
            "Epoch 25/100\n",
            "9/9 [==============================] - 0s 36ms/step - loss: 21.4758 - mae: 21.9279\n",
            "Epoch 26/100\n",
            "9/9 [==============================] - 0s 37ms/step - loss: 20.3827 - mae: 20.8358\n",
            "Epoch 27/100\n",
            "9/9 [==============================] - 0s 38ms/step - loss: 19.2911 - mae: 19.7440\n",
            "Epoch 28/100\n",
            "9/9 [==============================] - 0s 37ms/step - loss: 18.2211 - mae: 18.6739\n",
            "Epoch 29/100\n",
            "9/9 [==============================] - 0s 37ms/step - loss: 17.1855 - mae: 17.6359\n",
            "Epoch 30/100\n",
            "9/9 [==============================] - 0s 37ms/step - loss: 16.1935 - mae: 16.6432\n",
            "Epoch 31/100\n",
            "9/9 [==============================] - 0s 37ms/step - loss: 15.2582 - mae: 15.7072\n",
            "Epoch 32/100\n",
            "9/9 [==============================] - 0s 36ms/step - loss: 14.3877 - mae: 14.8366\n",
            "Epoch 33/100\n",
            "9/9 [==============================] - 0s 38ms/step - loss: 13.5925 - mae: 14.0422\n",
            "Epoch 34/100\n",
            "9/9 [==============================] - 0s 37ms/step - loss: 12.8806 - mae: 13.3312\n",
            "Epoch 35/100\n",
            "9/9 [==============================] - 0s 38ms/step - loss: 12.2523 - mae: 12.7062\n",
            "Epoch 36/100\n",
            "9/9 [==============================] - 0s 35ms/step - loss: 11.7026 - mae: 12.1597\n",
            "Epoch 37/100\n",
            "9/9 [==============================] - 0s 36ms/step - loss: 11.2270 - mae: 11.6855\n",
            "Epoch 38/100\n",
            "9/9 [==============================] - 0s 37ms/step - loss: 10.8172 - mae: 11.2790\n",
            "Epoch 39/100\n",
            "9/9 [==============================] - 0s 35ms/step - loss: 10.4618 - mae: 10.9271\n",
            "Epoch 40/100\n",
            "9/9 [==============================] - 0s 36ms/step - loss: 10.1549 - mae: 10.6195\n",
            "Epoch 41/100\n",
            "9/9 [==============================] - 0s 37ms/step - loss: 9.8899 - mae: 10.3559\n",
            "Epoch 42/100\n",
            "9/9 [==============================] - 0s 37ms/step - loss: 9.6606 - mae: 10.1290\n",
            "Epoch 43/100\n",
            "9/9 [==============================] - 0s 37ms/step - loss: 9.4595 - mae: 9.9298\n",
            "Epoch 44/100\n",
            "9/9 [==============================] - 0s 37ms/step - loss: 9.2773 - mae: 9.7497\n",
            "Epoch 45/100\n",
            "9/9 [==============================] - 0s 35ms/step - loss: 9.1051 - mae: 9.5794\n",
            "Epoch 46/100\n",
            "9/9 [==============================] - 0s 35ms/step - loss: 8.9351 - mae: 9.4102\n",
            "Epoch 47/100\n",
            "9/9 [==============================] - 0s 38ms/step - loss: 8.7593 - mae: 9.2343\n",
            "Epoch 48/100\n",
            "9/9 [==============================] - 0s 35ms/step - loss: 8.5769 - mae: 9.0513\n",
            "Epoch 49/100\n",
            "9/9 [==============================] - 0s 35ms/step - loss: 8.3923 - mae: 8.8667\n",
            "Epoch 50/100\n",
            "9/9 [==============================] - 0s 36ms/step - loss: 8.2071 - mae: 8.6811\n",
            "Epoch 51/100\n",
            "9/9 [==============================] - 0s 36ms/step - loss: 8.0226 - mae: 8.4965\n",
            "Epoch 52/100\n",
            "9/9 [==============================] - 0s 37ms/step - loss: 7.8383 - mae: 8.3122\n",
            "Epoch 53/100\n",
            "9/9 [==============================] - 0s 38ms/step - loss: 7.6547 - mae: 8.1293\n",
            "Epoch 54/100\n",
            "9/9 [==============================] - 0s 35ms/step - loss: 7.4802 - mae: 7.9556\n",
            "Epoch 55/100\n",
            "9/9 [==============================] - 0s 37ms/step - loss: 7.3187 - mae: 7.7958\n",
            "Epoch 56/100\n",
            "9/9 [==============================] - 0s 36ms/step - loss: 7.1647 - mae: 7.6422\n",
            "Epoch 57/100\n",
            "9/9 [==============================] - 0s 36ms/step - loss: 7.0147 - mae: 7.4919\n",
            "Epoch 58/100\n",
            "9/9 [==============================] - 0s 36ms/step - loss: 6.8733 - mae: 7.3500\n",
            "Epoch 59/100\n",
            "9/9 [==============================] - 0s 38ms/step - loss: 6.7426 - mae: 7.2199\n",
            "Epoch 60/100\n",
            "9/9 [==============================] - 0s 37ms/step - loss: 6.6217 - mae: 7.0992\n",
            "Epoch 61/100\n",
            "9/9 [==============================] - 0s 39ms/step - loss: 6.5133 - mae: 6.9915\n",
            "Epoch 62/100\n",
            "9/9 [==============================] - 0s 37ms/step - loss: 6.4162 - mae: 6.8953\n",
            "Epoch 63/100\n",
            "9/9 [==============================] - 0s 39ms/step - loss: 6.3241 - mae: 6.8039\n",
            "Epoch 64/100\n",
            "9/9 [==============================] - 0s 38ms/step - loss: 6.2314 - mae: 6.7138\n",
            "Epoch 65/100\n",
            "9/9 [==============================] - 0s 35ms/step - loss: 6.1279 - mae: 6.6137\n",
            "Epoch 66/100\n",
            "9/9 [==============================] - 0s 36ms/step - loss: 6.0444 - mae: 6.5302\n",
            "Epoch 67/100\n",
            "9/9 [==============================] - 0s 39ms/step - loss: 5.9743 - mae: 6.4600\n",
            "Epoch 68/100\n",
            "9/9 [==============================] - 0s 35ms/step - loss: 5.9022 - mae: 6.3880\n",
            "Epoch 69/100\n",
            "9/9 [==============================] - 0s 37ms/step - loss: 5.8503 - mae: 6.3367\n",
            "Epoch 70/100\n",
            "9/9 [==============================] - 0s 39ms/step - loss: 5.7986 - mae: 6.2863\n",
            "Epoch 71/100\n",
            "9/9 [==============================] - 0s 37ms/step - loss: 5.7576 - mae: 6.2481\n",
            "Epoch 72/100\n",
            "9/9 [==============================] - 0s 36ms/step - loss: 5.7357 - mae: 6.2306\n",
            "Epoch 73/100\n",
            "9/9 [==============================] - 0s 38ms/step - loss: 5.7197 - mae: 6.2186\n",
            "Epoch 74/100\n",
            "9/9 [==============================] - 0s 36ms/step - loss: 5.7010 - mae: 6.2038\n",
            "Epoch 75/100\n",
            "9/9 [==============================] - 0s 36ms/step - loss: 5.6977 - mae: 6.2045\n",
            "Epoch 76/100\n",
            "9/9 [==============================] - 0s 36ms/step - loss: 5.7075 - mae: 6.2193\n",
            "Epoch 77/100\n",
            "9/9 [==============================] - 0s 35ms/step - loss: 5.7233 - mae: 6.2394\n",
            "Epoch 78/100\n",
            "9/9 [==============================] - 0s 35ms/step - loss: 5.7636 - mae: 6.2787\n",
            "Epoch 79/100\n",
            "9/9 [==============================] - 0s 37ms/step - loss: 5.9058 - mae: 6.4250\n",
            "Epoch 80/100\n",
            "9/9 [==============================] - 0s 36ms/step - loss: 6.1128 - mae: 6.6467\n",
            "Epoch 81/100\n",
            "9/9 [==============================] - 0s 37ms/step - loss: 6.2233 - mae: 6.7662\n",
            "Epoch 82/100\n",
            "9/9 [==============================] - 0s 38ms/step - loss: 6.2548 - mae: 6.7962\n",
            "Epoch 83/100\n",
            "9/9 [==============================] - 0s 37ms/step - loss: 6.3579 - mae: 6.8975\n",
            "Epoch 84/100\n",
            "9/9 [==============================] - 0s 35ms/step - loss: 6.4714 - mae: 7.0009\n",
            "Epoch 85/100\n",
            "9/9 [==============================] - 0s 37ms/step - loss: 6.5611 - mae: 7.0664\n",
            "Epoch 86/100\n",
            "9/9 [==============================] - 0s 36ms/step - loss: 6.7136 - mae: 7.1748\n",
            "Epoch 87/100\n",
            "9/9 [==============================] - 0s 36ms/step - loss: 6.9929 - mae: 7.4452\n",
            "Epoch 88/100\n",
            "9/9 [==============================] - 0s 37ms/step - loss: 6.7327 - mae: 7.1678\n",
            "Epoch 89/100\n",
            "9/9 [==============================] - 0s 36ms/step - loss: 6.9475 - mae: 7.4203\n",
            "Epoch 90/100\n",
            "9/9 [==============================] - 0s 37ms/step - loss: 6.9915 - mae: 7.5122\n",
            "Epoch 91/100\n",
            "9/9 [==============================] - 0s 37ms/step - loss: 7.1740 - mae: 7.7592\n",
            "Epoch 92/100\n",
            "9/9 [==============================] - 0s 35ms/step - loss: 7.0184 - mae: 7.6138\n",
            "Epoch 93/100\n",
            "9/9 [==============================] - 0s 38ms/step - loss: 6.8400 - mae: 7.4261\n",
            "Epoch 94/100\n",
            "9/9 [==============================] - 0s 35ms/step - loss: 6.9991 - mae: 7.4295\n",
            "Epoch 95/100\n",
            "9/9 [==============================] - 0s 36ms/step - loss: 6.4149 - mae: 6.9600\n",
            "Epoch 96/100\n",
            "9/9 [==============================] - 0s 36ms/step - loss: 5.9457 - mae: 6.4610\n",
            "Epoch 97/100\n",
            "9/9 [==============================] - 0s 37ms/step - loss: 6.2102 - mae: 6.6862\n",
            "Epoch 98/100\n",
            "9/9 [==============================] - 0s 36ms/step - loss: 6.6340 - mae: 7.0875\n",
            "Epoch 99/100\n",
            "9/9 [==============================] - 0s 36ms/step - loss: 6.9413 - mae: 7.3792\n",
            "Epoch 100/100\n",
            "9/9 [==============================] - 0s 40ms/step - loss: 7.3110 - mae: 7.7420\n"
          ],
          "name": "stdout"
        }
      ]
    },
    {
      "cell_type": "code",
      "metadata": {
        "id": "kKIqbmXQG2nf",
        "colab_type": "code",
        "colab": {
          "base_uri": "https://localhost:8080/",
          "height": 290
        },
        "outputId": "caaaaf81-6da8-4ede-8196-5790fe4e8799"
      },
      "source": [
        "plt.semilogx(history.history['lr'], history.history['loss'])\n",
        "plt.axis([1e-8,1e-4,0,60])"
      ],
      "execution_count": 30,
      "outputs": [
        {
          "output_type": "execute_result",
          "data": {
            "text/plain": [
              "[1e-08, 0.0001, 0, 60]"
            ]
          },
          "metadata": {
            "tags": []
          },
          "execution_count": 30
        },
        {
          "output_type": "display_data",
          "data": {
            "image/png": "[encoded data removed]",
            "text/plain": [
              "<Figure size 432x288 with 1 Axes>"
            ]
          },
          "metadata": {
            "tags": []
          }
        }
      ]
    },
    {
      "cell_type": "code",
      "metadata": {
        "id": "r7CcDLQvHjYN",
        "colab_type": "code",
        "colab": {
          "base_uri": "https://localhost:8080/",
          "height": 1000
        },
        "outputId": "a3e10440-1647-46f9-b6cf-6311fcadd3aa"
      },
      "source": [
        "model = tf.keras.models.Sequential([tf.keras.layers.Conv1D(60, strides=1, kernel_size=3, padding='causal', activation='relu', input_shape=[None,1]),\n",
        "                                    tf.keras.layers.LSTM(64, return_sequences=True),\n",
        "                                    tf.keras.layers.LSTM(64, return_sequences=True),\n",
        "                                    tf.keras.layers.Dense(60, activation='relu'),\n",
        "                                    tf.keras.layers.Dense(30, activation='relu'),\n",
        "                                    tf.keras.layers.Dense(1),\n",
        "                                    tf.keras.layers.Lambda(lambda x:x*100)])\n",
        "\n",
        "optimizer = tf.keras.optimizers.Adam(learning_rate=0.01)\n",
        "model.compile(optimizer=optimizer, loss=tf.keras.losses.Huber(), metrics=['mae'])\n",
        "history=model.fit(train_dataset, epochs=100)"
      ],
      "execution_count": 86,
      "outputs": [
        {
          "output_type": "stream",
          "text": [
            "WARNING:tensorflow:Entity <function standard_lstm at 0x7f88a1ac37b8> could not be transformed and will be executed as-is. Please report this to the AutoGraph team. When filing the bug, set the verbosity to 10 (on Linux, `export AUTOGRAPH_VERBOSITY=10`) and attach the full output. Cause: converting <function standard_lstm at 0x7f88a1ac37b8>: AttributeError: module 'gast' has no attribute 'Num'\n",
            "WARNING: Entity <function standard_lstm at 0x7f88a1ac37b8> could not be transformed and will be executed as-is. Please report this to the AutoGraph team. When filing the bug, set the verbosity to 10 (on Linux, `export AUTOGRAPH_VERBOSITY=10`) and attach the full output. Cause: converting <function standard_lstm at 0x7f88a1ac37b8>: AttributeError: module 'gast' has no attribute 'Num'\n",
            "WARNING:tensorflow:Entity <function cudnn_lstm at 0x7f88a1ac3840> could not be transformed and will be executed as-is. Please report this to the AutoGraph team. When filing the bug, set the verbosity to 10 (on Linux, `export AUTOGRAPH_VERBOSITY=10`) and attach the full output. Cause: converting <function cudnn_lstm at 0x7f88a1ac3840>: AttributeError: module 'gast' has no attribute 'Num'\n",
            "WARNING: Entity <function cudnn_lstm at 0x7f88a1ac3840> could not be transformed and will be executed as-is. Please report this to the AutoGraph team. When filing the bug, set the verbosity to 10 (on Linux, `export AUTOGRAPH_VERBOSITY=10`) and attach the full output. Cause: converting <function cudnn_lstm at 0x7f88a1ac3840>: AttributeError: module 'gast' has no attribute 'Num'\n",
            "WARNING:tensorflow:Entity <function standard_lstm at 0x7f88a1ac37b8> could not be transformed and will be executed as-is. Please report this to the AutoGraph team. When filing the bug, set the verbosity to 10 (on Linux, `export AUTOGRAPH_VERBOSITY=10`) and attach the full output. Cause: converting <function standard_lstm at 0x7f88a1ac37b8>: AttributeError: module 'gast' has no attribute 'Num'\n",
            "WARNING: Entity <function standard_lstm at 0x7f88a1ac37b8> could not be transformed and will be executed as-is. Please report this to the AutoGraph team. When filing the bug, set the verbosity to 10 (on Linux, `export AUTOGRAPH_VERBOSITY=10`) and attach the full output. Cause: converting <function standard_lstm at 0x7f88a1ac37b8>: AttributeError: module 'gast' has no attribute 'Num'\n",
            "WARNING:tensorflow:Entity <function cudnn_lstm at 0x7f88a1ac3840> could not be transformed and will be executed as-is. Please report this to the AutoGraph team. When filing the bug, set the verbosity to 10 (on Linux, `export AUTOGRAPH_VERBOSITY=10`) and attach the full output. Cause: converting <function cudnn_lstm at 0x7f88a1ac3840>: AttributeError: module 'gast' has no attribute 'Num'\n",
            "WARNING: Entity <function cudnn_lstm at 0x7f88a1ac3840> could not be transformed and will be executed as-is. Please report this to the AutoGraph team. When filing the bug, set the verbosity to 10 (on Linux, `export AUTOGRAPH_VERBOSITY=10`) and attach the full output. Cause: converting <function cudnn_lstm at 0x7f88a1ac3840>: AttributeError: module 'gast' has no attribute 'Num'\n",
            "Epoch 1/100\n",
            "3/3 [==============================] - 3s 1s/step - loss: 24.3310 - mae: 32.3369\n",
            "Epoch 2/100\n",
            "3/3 [==============================] - 0s 122ms/step - loss: 30.4869 - mae: 36.0103\n",
            "Epoch 3/100\n",
            "3/3 [==============================] - 0s 124ms/step - loss: 6.6493 - mae: 7.0999\n",
            "Epoch 4/100\n",
            "3/3 [==============================] - 0s 117ms/step - loss: 6.1164 - mae: 6.7428\n",
            "Epoch 5/100\n",
            "3/3 [==============================] - 0s 118ms/step - loss: 5.9062 - mae: 6.4213\n",
            "Epoch 6/100\n",
            "3/3 [==============================] - 0s 116ms/step - loss: 5.5947 - mae: 6.2080\n",
            "Epoch 7/100\n",
            "3/3 [==============================] - 0s 113ms/step - loss: 5.5968 - mae: 6.0633\n",
            "Epoch 8/100\n",
            "3/3 [==============================] - 0s 122ms/step - loss: 5.2858 - mae: 5.8032\n",
            "Epoch 9/100\n",
            "3/3 [==============================] - 0s 124ms/step - loss: 5.5429 - mae: 6.1062\n",
            "Epoch 10/100\n",
            "3/3 [==============================] - 0s 120ms/step - loss: 5.4033 - mae: 5.9217\n",
            "Epoch 11/100\n",
            "3/3 [==============================] - 0s 119ms/step - loss: 5.3700 - mae: 5.9350\n",
            "Epoch 12/100\n",
            "3/3 [==============================] - 0s 119ms/step - loss: 5.5189 - mae: 6.0280\n",
            "Epoch 13/100\n",
            "3/3 [==============================] - 0s 123ms/step - loss: 5.2764 - mae: 5.8082\n",
            "Epoch 14/100\n",
            "3/3 [==============================] - 0s 120ms/step - loss: 5.4470 - mae: 6.0032\n",
            "Epoch 15/100\n",
            "3/3 [==============================] - 0s 118ms/step - loss: 5.3624 - mae: 5.8788\n",
            "Epoch 16/100\n",
            "3/3 [==============================] - 0s 121ms/step - loss: 5.3512 - mae: 5.9044\n",
            "Epoch 17/100\n",
            "3/3 [==============================] - 0s 120ms/step - loss: 5.4175 - mae: 5.9448\n",
            "Epoch 18/100\n",
            "3/3 [==============================] - 0s 126ms/step - loss: 5.3152 - mae: 5.8548\n",
            "Epoch 19/100\n",
            "3/3 [==============================] - 0s 125ms/step - loss: 5.4078 - mae: 5.9488\n",
            "Epoch 20/100\n",
            "3/3 [==============================] - 0s 122ms/step - loss: 5.3352 - mae: 5.8724\n",
            "Epoch 21/100\n",
            "3/3 [==============================] - 0s 121ms/step - loss: 5.3751 - mae: 5.9193\n",
            "Epoch 22/100\n",
            "3/3 [==============================] - 0s 121ms/step - loss: 5.3591 - mae: 5.8953\n",
            "Epoch 23/100\n",
            "3/3 [==============================] - 0s 115ms/step - loss: 5.3529 - mae: 5.8967\n",
            "Epoch 24/100\n",
            "3/3 [==============================] - 0s 119ms/step - loss: 5.3727 - mae: 5.9117\n",
            "Epoch 25/100\n",
            "3/3 [==============================] - 0s 122ms/step - loss: 5.3444 - mae: 5.8890\n",
            "Epoch 26/100\n",
            "3/3 [==============================] - 0s 109ms/step - loss: 5.3729 - mae: 5.9130\n",
            "Epoch 27/100\n",
            "3/3 [==============================] - 0s 120ms/step - loss: 5.3456 - mae: 5.8902\n",
            "Epoch 28/100\n",
            "3/3 [==============================] - 0s 116ms/step - loss: 5.3687 - mae: 5.9103\n",
            "Epoch 29/100\n",
            "3/3 [==============================] - 0s 121ms/step - loss: 5.3452 - mae: 5.8895\n",
            "Epoch 30/100\n",
            "3/3 [==============================] - 0s 120ms/step - loss: 5.3657 - mae: 5.9085\n",
            "Epoch 31/100\n",
            "3/3 [==============================] - 0s 117ms/step - loss: 5.3464 - mae: 5.8913\n",
            "Epoch 32/100\n",
            "3/3 [==============================] - 0s 119ms/step - loss: 5.3601 - mae: 5.9030\n",
            "Epoch 33/100\n",
            "3/3 [==============================] - 0s 119ms/step - loss: 5.3480 - mae: 5.8927\n",
            "Epoch 34/100\n",
            "3/3 [==============================] - 0s 115ms/step - loss: 5.3554 - mae: 5.8984\n",
            "Epoch 35/100\n",
            "3/3 [==============================] - 0s 126ms/step - loss: 5.3467 - mae: 5.8911\n",
            "Epoch 36/100\n",
            "3/3 [==============================] - 0s 121ms/step - loss: 5.3529 - mae: 5.8966\n",
            "Epoch 37/100\n",
            "3/3 [==============================] - 0s 119ms/step - loss: 5.3448 - mae: 5.8895\n",
            "Epoch 38/100\n",
            "3/3 [==============================] - 0s 119ms/step - loss: 5.3501 - mae: 5.8940\n",
            "Epoch 39/100\n",
            "3/3 [==============================] - 0s 115ms/step - loss: 5.3430 - mae: 5.8876\n",
            "Epoch 40/100\n",
            "3/3 [==============================] - 0s 122ms/step - loss: 5.3464 - mae: 5.8903\n",
            "Epoch 41/100\n",
            "3/3 [==============================] - 0s 123ms/step - loss: 5.3409 - mae: 5.8855\n",
            "Epoch 42/100\n",
            "3/3 [==============================] - 0s 119ms/step - loss: 5.3433 - mae: 5.8870\n",
            "Epoch 43/100\n",
            "3/3 [==============================] - 0s 123ms/step - loss: 5.3381 - mae: 5.8827\n",
            "Epoch 44/100\n",
            "3/3 [==============================] - 0s 118ms/step - loss: 5.3404 - mae: 5.8839\n",
            "Epoch 45/100\n",
            "3/3 [==============================] - 0s 117ms/step - loss: 5.3346 - mae: 5.8796\n",
            "Epoch 46/100\n",
            "3/3 [==============================] - 0s 133ms/step - loss: 5.3370 - mae: 5.8805\n",
            "Epoch 47/100\n",
            "3/3 [==============================] - 0s 116ms/step - loss: 5.3308 - mae: 5.8764\n",
            "Epoch 48/100\n",
            "3/3 [==============================] - 0s 122ms/step - loss: 5.3334 - mae: 5.8768\n",
            "Epoch 49/100\n",
            "3/3 [==============================] - 0s 115ms/step - loss: 5.3268 - mae: 5.8732\n",
            "Epoch 50/100\n",
            "3/3 [==============================] - 0s 117ms/step - loss: 5.3295 - mae: 5.8729\n",
            "Epoch 51/100\n",
            "3/3 [==============================] - 0s 122ms/step - loss: 5.3232 - mae: 5.8707\n",
            "Epoch 52/100\n",
            "3/3 [==============================] - 0s 122ms/step - loss: 5.3256 - mae: 5.8691\n",
            "Epoch 53/100\n",
            "3/3 [==============================] - 0s 118ms/step - loss: 5.3208 - mae: 5.8717\n",
            "Epoch 54/100\n",
            "3/3 [==============================] - 0s 122ms/step - loss: 5.3238 - mae: 5.8663\n",
            "Epoch 55/100\n",
            "3/3 [==============================] - 0s 121ms/step - loss: 5.3184 - mae: 5.8741\n",
            "Epoch 56/100\n",
            "3/3 [==============================] - 0s 119ms/step - loss: 5.3264 - mae: 5.8661\n",
            "Epoch 57/100\n",
            "3/3 [==============================] - 0s 125ms/step - loss: 5.3095 - mae: 5.8706\n",
            "Epoch 58/100\n",
            "3/3 [==============================] - 0s 121ms/step - loss: 5.3340 - mae: 5.8714\n",
            "Epoch 59/100\n",
            "3/3 [==============================] - 0s 126ms/step - loss: 5.2933 - mae: 5.8572\n",
            "Epoch 60/100\n",
            "3/3 [==============================] - 0s 114ms/step - loss: 5.3432 - mae: 5.8795\n",
            "Epoch 61/100\n",
            "3/3 [==============================] - 0s 116ms/step - loss: 5.2804 - mae: 5.8451\n",
            "Epoch 62/100\n",
            "3/3 [==============================] - 0s 121ms/step - loss: 5.3496 - mae: 5.8831\n",
            "Epoch 63/100\n",
            "3/3 [==============================] - 0s 120ms/step - loss: 5.2723 - mae: 5.8365\n",
            "Epoch 64/100\n",
            "3/3 [==============================] - 0s 116ms/step - loss: 5.3523 - mae: 5.8835\n",
            "Epoch 65/100\n",
            "3/3 [==============================] - 0s 117ms/step - loss: 5.2589 - mae: 5.8247\n",
            "Epoch 66/100\n",
            "3/3 [==============================] - 0s 116ms/step - loss: 5.3489 - mae: 5.8833\n",
            "Epoch 67/100\n",
            "3/3 [==============================] - 0s 113ms/step - loss: 5.2471 - mae: 5.8114\n",
            "Epoch 68/100\n",
            "3/3 [==============================] - 0s 121ms/step - loss: 5.3414 - mae: 5.8796\n",
            "Epoch 69/100\n",
            "3/3 [==============================] - 0s 112ms/step - loss: 5.2394 - mae: 5.7986\n",
            "Epoch 70/100\n",
            "3/3 [==============================] - 0s 116ms/step - loss: 5.3223 - mae: 5.8607\n",
            "Epoch 71/100\n",
            "3/3 [==============================] - 0s 109ms/step - loss: 5.2469 - mae: 5.8084\n",
            "Epoch 72/100\n",
            "3/3 [==============================] - 0s 111ms/step - loss: 5.3176 - mae: 5.8508\n",
            "Epoch 73/100\n",
            "3/3 [==============================] - 0s 133ms/step - loss: 5.2378 - mae: 5.7969\n",
            "Epoch 74/100\n",
            "3/3 [==============================] - 0s 117ms/step - loss: 5.3059 - mae: 5.8457\n",
            "Epoch 75/100\n",
            "3/3 [==============================] - 0s 117ms/step - loss: 5.2332 - mae: 5.7994\n",
            "Epoch 76/100\n",
            "3/3 [==============================] - 0s 116ms/step - loss: 5.3040 - mae: 5.8455\n",
            "Epoch 77/100\n",
            "3/3 [==============================] - 0s 110ms/step - loss: 5.2278 - mae: 5.7902\n",
            "Epoch 78/100\n",
            "3/3 [==============================] - 0s 115ms/step - loss: 5.2985 - mae: 5.8392\n",
            "Epoch 79/100\n",
            "3/3 [==============================] - 0s 115ms/step - loss: 5.2136 - mae: 5.7709\n",
            "Epoch 80/100\n",
            "3/3 [==============================] - 0s 117ms/step - loss: 5.2843 - mae: 5.8316\n",
            "Epoch 81/100\n",
            "3/3 [==============================] - 0s 118ms/step - loss: 5.2157 - mae: 5.7727\n",
            "Epoch 82/100\n",
            "3/3 [==============================] - 0s 126ms/step - loss: 5.2656 - mae: 5.8136\n",
            "Epoch 83/100\n",
            "3/3 [==============================] - 0s 113ms/step - loss: 5.2167 - mae: 5.7726\n",
            "Epoch 84/100\n",
            "3/3 [==============================] - 0s 120ms/step - loss: 5.2537 - mae: 5.8034\n",
            "Epoch 85/100\n",
            "3/3 [==============================] - 0s 125ms/step - loss: 5.2228 - mae: 5.7799\n",
            "Epoch 86/100\n",
            "3/3 [==============================] - 0s 112ms/step - loss: 5.2384 - mae: 5.7857\n",
            "Epoch 87/100\n",
            "3/3 [==============================] - 0s 122ms/step - loss: 5.2178 - mae: 5.7778\n",
            "Epoch 88/100\n",
            "3/3 [==============================] - 0s 117ms/step - loss: 5.2310 - mae: 5.7790\n",
            "Epoch 89/100\n",
            "3/3 [==============================] - 0s 120ms/step - loss: 5.2130 - mae: 5.7749\n",
            "Epoch 90/100\n",
            "3/3 [==============================] - 0s 122ms/step - loss: 5.2247 - mae: 5.7723\n",
            "Epoch 91/100\n",
            "3/3 [==============================] - 0s 110ms/step - loss: 5.2140 - mae: 5.7758\n",
            "Epoch 92/100\n",
            "3/3 [==============================] - 0s 114ms/step - loss: 5.2223 - mae: 5.7680\n",
            "Epoch 93/100\n",
            "3/3 [==============================] - 0s 121ms/step - loss: 5.2115 - mae: 5.7729\n",
            "Epoch 94/100\n",
            "3/3 [==============================] - 0s 115ms/step - loss: 5.2095 - mae: 5.7579\n",
            "Epoch 95/100\n",
            "3/3 [==============================] - 0s 120ms/step - loss: 5.2092 - mae: 5.7767\n",
            "Epoch 96/100\n",
            "3/3 [==============================] - 0s 115ms/step - loss: 5.1996 - mae: 5.7479\n",
            "Epoch 97/100\n",
            "3/3 [==============================] - 0s 118ms/step - loss: 5.2021 - mae: 5.7736\n",
            "Epoch 98/100\n",
            "3/3 [==============================] - 0s 123ms/step - loss: 5.2100 - mae: 5.7545\n",
            "Epoch 99/100\n",
            "3/3 [==============================] - 0s 114ms/step - loss: 5.2103 - mae: 5.7748\n",
            "Epoch 100/100\n",
            "3/3 [==============================] - 0s 115ms/step - loss: 5.2116 - mae: 5.7500\n"
          ],
          "name": "stdout"
        }
      ]
    },
    {
      "cell_type": "code",
      "metadata": {
        "id": "3Hb-VAbOIb9e",
        "colab_type": "code",
        "colab": {
          "base_uri": "https://localhost:8080/",
          "height": 286
        },
        "outputId": "9c238674-7ab5-4e4c-ce1e-f0373d81f777"
      },
      "source": [
        "plt.plot(range(100),history.history['loss'])"
      ],
      "execution_count": 87,
      "outputs": [
        {
          "output_type": "execute_result",
          "data": {
            "text/plain": [
              "[<matplotlib.lines.Line2D at 0x7f887df86be0>]"
            ]
          },
          "metadata": {
            "tags": []
          },
          "execution_count": 87
        },
        {
          "output_type": "display_data",
          "data": {
            "image/png": "[encoded data removed]",
            "text/plain": [
              "<Figure size 432x288 with 1 Axes>"
            ]
          },
          "metadata": {
            "tags": []
          }
        }
      ]
    },
    {
      "cell_type": "code",
      "metadata": {
        "id": "yOtc0_4vJghj",
        "colab_type": "code",
        "colab": {}
      },
      "source": [
        "rnn_forcast = model_forcast(model, series[...,np.newaxis], window_size)\n",
        "rnn_forcast = rnn_forcast[split_time-window_size:-1,-1,0]"
      ],
      "execution_count": 0,
      "outputs": []
    },
    {
      "cell_type": "code",
      "metadata": {
        "id": "gOcU8UtPRpxH",
        "colab_type": "code",
        "colab": {
          "base_uri": "https://localhost:8080/",
          "height": 392
        },
        "outputId": "42d550e2-5d07-47d4-fc81-76437dc27702"
      },
      "source": [
        "plt.figure(figsize=(10,6))\n",
        "plot_series(x_valid, time_valid)\n",
        "plot_series(rnn_forcast, time_valid)"
      ],
      "execution_count": 89,
      "outputs": [
        {
          "output_type": "display_data",
          "data": {
            "image/png": "[encoded data removed]",
            "text/plain": [
              "<Figure size 720x432 with 1 Axes>"
            ]
          },
          "metadata": {
            "tags": []
          }
        }
      ]
    },
    {
      "cell_type": "code",
      "metadata": {
        "id": "RLQU3syvofEF",
        "colab_type": "code",
        "colab": {
          "base_uri": "https://localhost:8080/",
          "height": 34
        },
        "outputId": "3ae9ce86-666c-4396-cd2b-119ecc6c140e"
      },
      "source": [
        "tf.keras.metrics.mean_absolute_error(x_valid, rnn_forcast).numpy()"
      ],
      "execution_count": 90,
      "outputs": [
        {
          "output_type": "execute_result",
          "data": {
            "text/plain": [
              "5.1240153"
            ]
          },
          "metadata": {
            "tags": []
          },
          "execution_count": 90
        }
      ]
    },
    {
      "cell_type": "code",
      "metadata": {
        "id": "tgCsXwT4z9zU",
        "colab_type": "code",
        "colab": {}
      },
      "source": [
        ""
      ],
      "execution_count": 0,
      "outputs": []
    }
  ]
}